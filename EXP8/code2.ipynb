{
 "cells": [
  {
   "cell_type": "code",
   "execution_count": 20,
   "id": "9753d2b8",
   "metadata": {},
   "outputs": [],
   "source": [
    "import tensorflow as tf\n",
    "from tensorflow.keras import layers,models\n",
    "from tensorflow.keras.datasets import imdb\n",
    "from tensorflow.keras.layers import LSTM,Dense,Embedding\n",
    "from tensorflow.keras.models import Sequential\n",
    "from tensorflow.keras.preprocessing.sequence import pad_sequences\n",
    "import numpy as np\n",
    "import pandas as pd\n"
   ]
  },
  {
   "cell_type": "code",
   "execution_count": 21,
   "id": "9ef67bb0",
   "metadata": {},
   "outputs": [],
   "source": [
    "words=10000\n",
    "(x_train,y_train),(x_test,y_test) = imdb.load_data(num_words = words)\n"
   ]
  },
  {
   "cell_type": "code",
   "execution_count": 23,
   "id": "e818f9f2",
   "metadata": {},
   "outputs": [],
   "source": [
    "length=200\n",
    "x_train=pad_sequences(x_train,maxlen=length)\n",
    "x_test=pad_sequences(x_test,maxlen=length)"
   ]
  },
  {
   "cell_type": "code",
   "execution_count": 27,
   "id": "18534c5a",
   "metadata": {},
   "outputs": [],
   "source": [
    "model = models.Sequential()\n",
    "model.add(layers.Embedding(input_dim=words, output_dim=128, input_length=length))\n",
    "model.add(layers.LSTM(64))\n",
    "model.add(layers.Dense(1, activation='sigmoid'))  # Sigmoid activation for binary classification\n",
    "\n",
    "model.compile(loss='binary_crossentropy', optimizer='adam', metrics=['accuracy'])\n"
   ]
  },
  {
   "cell_type": "code",
   "execution_count": 28,
   "id": "f4c6d793",
   "metadata": {},
   "outputs": [
    {
     "name": "stdout",
     "output_type": "stream",
     "text": [
      "Epoch 1/5\n",
      "313/313 [==============================] - 34s 102ms/step - loss: 0.4149 - accuracy: 0.8087 - val_loss: 0.3207 - val_accuracy: 0.8668\n",
      "Epoch 2/5\n",
      "313/313 [==============================] - 31s 100ms/step - loss: 0.2384 - accuracy: 0.9080 - val_loss: 0.3951 - val_accuracy: 0.8502\n",
      "Epoch 3/5\n",
      "313/313 [==============================] - 31s 99ms/step - loss: 0.1663 - accuracy: 0.9396 - val_loss: 0.3825 - val_accuracy: 0.8688\n",
      "Epoch 4/5\n",
      "313/313 [==============================] - 31s 99ms/step - loss: 0.1168 - accuracy: 0.9592 - val_loss: 0.4139 - val_accuracy: 0.8632\n",
      "Epoch 5/5\n",
      "313/313 [==============================] - 31s 98ms/step - loss: 0.0992 - accuracy: 0.9651 - val_loss: 0.4463 - val_accuracy: 0.8596\n"
     ]
    }
   ],
   "source": [
    "history = model.fit(x_train, y_train, epochs=5, batch_size=64, validation_split=0.2)\n"
   ]
  },
  {
   "cell_type": "code",
   "execution_count": 30,
   "id": "bb6fb82c",
   "metadata": {},
   "outputs": [
    {
     "name": "stdout",
     "output_type": "stream",
     "text": [
      "782/782 [==============================] - 13s 17ms/step - loss: 0.4853 - accuracy: 0.8516\n",
      "Test Loss: 48.53053390979767\n",
      "Test Accuracy: 85.15599966049194\n"
     ]
    }
   ],
   "source": [
    "test_loss, test_acc = model.evaluate(x_test, y_test)\n",
    "print('Test Loss:', test_loss*100)\n",
    "print('Test Accuracy:', test_acc*100)\n"
   ]
  },
  {
   "cell_type": "code",
   "execution_count": 36,
   "id": "58ebb72a",
   "metadata": {},
   "outputs": [
    {
     "name": "stdout",
     "output_type": "stream",
     "text": [
      "1/1 [==============================] - 0s 15ms/step\n"
     ]
    },
    {
     "data": {
      "text/plain": [
       "'Negative Review'"
      ]
     },
     "execution_count": 36,
     "metadata": {},
     "output_type": "execute_result"
    }
   ],
   "source": [
    "test_sequence=np.reshape(x_test[7],(1,-1))\n",
    "prediction=model.predict(test_sequence)[0]\n",
    "'Positive_review' if int(prediction[0])==1 else \"Negative Review\""
   ]
  },
  {
   "cell_type": "code",
   "execution_count": null,
   "id": "e254f69a",
   "metadata": {},
   "outputs": [],
   "source": []
  }
 ],
 "metadata": {
  "kernelspec": {
   "display_name": "Python 3 (ipykernel)",
   "language": "python",
   "name": "python3"
  },
  "language_info": {
   "codemirror_mode": {
    "name": "ipython",
    "version": 3
   },
   "file_extension": ".py",
   "mimetype": "text/x-python",
   "name": "python",
   "nbconvert_exporter": "python",
   "pygments_lexer": "ipython3",
   "version": "3.10.9"
  }
 },
 "nbformat": 4,
 "nbformat_minor": 5
}
