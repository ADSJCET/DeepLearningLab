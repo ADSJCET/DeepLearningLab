{
 "cells": [
  {
   "cell_type": "code",
   "execution_count": 2,
   "id": "069a8ba4",
   "metadata": {},
   "outputs": [],
   "source": [
    "from tensorflow.keras import Sequential\n",
    "from tensorflow.keras.layers import Embedding, LSTM, Dense"
   ]
  },
  {
   "cell_type": "code",
   "execution_count": 3,
   "id": "c2da4f54",
   "metadata": {},
   "outputs": [],
   "source": [
    "from tensorflow.keras.datasets import imdb"
   ]
  },
  {
   "cell_type": "code",
   "execution_count": 25,
   "id": "40ca1ab9",
   "metadata": {},
   "outputs": [],
   "source": [
    "(x_train, y_train), (x_test, y_test) = imdb.load_data(num_words=num_words)"
   ]
  },
  {
   "cell_type": "code",
   "execution_count": 26,
   "id": "542170f0",
   "metadata": {},
   "outputs": [],
   "source": [
    "from tensorflow.keras.preprocessing import sequence"
   ]
  },
  {
   "cell_type": "code",
   "execution_count": 27,
   "id": "5b3b4278",
   "metadata": {},
   "outputs": [],
   "source": [
    "num_words = 10000\n",
    "max_length = 200\n",
    "\n",
    "x_train =sequence.pad_sequences(x_train, maxlen=max_length)\n",
    "x_test =sequence.pad_sequences(x_test, maxlen=max_length)"
   ]
  },
  {
   "cell_type": "code",
   "execution_count": 28,
   "id": "1ffb22a6",
   "metadata": {},
   "outputs": [],
   "source": [
    "model = Sequential([\n",
    "    Embedding(input_dim=num_words, output_dim=128, input_length=max_length),\n",
    "    LSTM(128),\n",
    "    Dense(1, activation='sigmoid')\n",
    "])\n",
    "\n",
    "model.compile(loss='binary_crossentropy', optimizer='adam', metrics=['accuracy'])"
   ]
  },
  {
   "cell_type": "code",
   "execution_count": 29,
   "id": "df8dddcb",
   "metadata": {},
   "outputs": [
    {
     "name": "stdout",
     "output_type": "stream",
     "text": [
      "Epoch 1/5\n",
      "313/313 [==============================] - 70s 221ms/step - loss: 0.4317 - accuracy: 0.7978 - val_loss: 0.3515 - val_accuracy: 0.8498\n",
      "Epoch 2/5\n",
      "313/313 [==============================] - 70s 224ms/step - loss: 0.2554 - accuracy: 0.8986 - val_loss: 0.3371 - val_accuracy: 0.8586\n",
      "Epoch 3/5\n",
      "313/313 [==============================] - 70s 224ms/step - loss: 0.1768 - accuracy: 0.9328 - val_loss: 0.3509 - val_accuracy: 0.8642\n",
      "Epoch 4/5\n",
      "313/313 [==============================] - 69s 220ms/step - loss: 0.1198 - accuracy: 0.9567 - val_loss: 0.3852 - val_accuracy: 0.8564\n",
      "Epoch 5/5\n",
      "313/313 [==============================] - 69s 221ms/step - loss: 0.1058 - accuracy: 0.9621 - val_loss: 0.4678 - val_accuracy: 0.8404\n"
     ]
    },
    {
     "data": {
      "text/plain": [
       "<keras.src.callbacks.History at 0x1d25444a200>"
      ]
     },
     "execution_count": 29,
     "metadata": {},
     "output_type": "execute_result"
    }
   ],
   "source": [
    "model.fit(x_train, y_train, validation_split=0.2, epochs=5, batch_size=64)"
   ]
  },
  {
   "cell_type": "code",
   "execution_count": 30,
   "id": "4ad41010",
   "metadata": {},
   "outputs": [
    {
     "name": "stdout",
     "output_type": "stream",
     "text": [
      "782/782 [==============================] - 20s 25ms/step - loss: 0.4640 - accuracy: 0.8431\n",
      "loss: 0.4640439748764038 \n",
      "accuracy: 0.8431199789047241\n"
     ]
    }
   ],
   "source": [
    "loss, accuracy = model.evaluate(x_test, y_test)\n",
    "\n",
    "print(\"loss:\", loss, \"\\naccuracy:\", accuracy)"
   ]
  }
 ],
 "metadata": {
  "kernelspec": {
   "display_name": "Python 3 (ipykernel)",
   "language": "python",
   "name": "python3"
  },
  "language_info": {
   "codemirror_mode": {
    "name": "ipython",
    "version": 3
   },
   "file_extension": ".py",
   "mimetype": "text/x-python",
   "name": "python",
   "nbconvert_exporter": "python",
   "pygments_lexer": "ipython3",
   "version": "3.10.9"
  }
 },
 "nbformat": 4,
 "nbformat_minor": 5
}
