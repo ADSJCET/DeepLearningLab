{
 "cells": [
  {
   "cell_type": "code",
   "execution_count": 4,
   "id": "4f1fd6bb",
   "metadata": {},
   "outputs": [],
   "source": [
    "from tensorflow.keras.datasets import cifar10\n",
    "from tensorflow.keras.utils import to_categorical"
   ]
  },
  {
   "cell_type": "code",
   "execution_count": 5,
   "id": "5f75c51a",
   "metadata": {},
   "outputs": [],
   "source": [
    "# Load and preprocess CIFAR-10 dataset\n",
    "(x_train, y_train), (x_test, y_test) = cifar10.load_data()\n",
    "x_train, x_test = x_train / 255.0, x_test / 255.0    #Normalization\n",
    "y_train, y_test = to_categorical(y_train), to_categorical(y_test) # one hot encoding"
   ]
  },
  {
   "cell_type": "code",
   "execution_count": 6,
   "id": "81b528aa",
   "metadata": {},
   "outputs": [],
   "source": [
    "hidden_units = (256, 128, 64)\n",
    "activation = \"relu\""
   ]
  },
  {
   "cell_type": "code",
   "execution_count": 7,
   "id": "7b8c3374",
   "metadata": {},
   "outputs": [],
   "source": [
    "import time"
   ]
  },
  {
   "cell_type": "code",
   "execution_count": 16,
   "id": "ae35a10b",
   "metadata": {},
   "outputs": [],
   "source": [
    "def createTester(model, name):\n",
    "    model.compile(optimizer='adam', loss='categorical_crossentropy', metrics=['accuracy'])\n",
    "    \n",
    "    start = time.time()\n",
    "    history = model.fit(x_train, y_train, epochs=5, batch_size=64, validation_data=(x_test, y_test))\n",
    "    end = time.time()\n",
    "    \n",
    "    test_loss, test_accuracy = model.evaluate(x_test, y_test)\n",
    "    \n",
    "    r_test_loss = round(test_loss, 5)\n",
    "    r_test_accuracy = round(test_accuracy * 100, 5)\n",
    "    r_time = round(end - start, 3)\n",
    "    \n",
    "    print(\"\\nModel:\", name)\n",
    "    print(\"test error =\", r_test_loss)\n",
    "    print(\"Accuracy =\", r_test_accuracy, \"%\")\n",
    "    print(\"time =\", r_time, \"seconds\")\n",
    "    \n",
    "    return (\n",
    "        model,\n",
    "        r_test_loss,\n",
    "        r_test_accuracy,\n",
    "        r_time\n",
    "    )"
   ]
  },
  {
   "cell_type": "code",
   "execution_count": 9,
   "id": "8bdf3701",
   "metadata": {},
   "outputs": [],
   "source": [
    "from tensorflow.keras.layers import Flatten, Dense, Dropout\n",
    "from tensorflow.keras.models import Sequential"
   ]
  },
  {
   "cell_type": "code",
   "execution_count": 41,
   "id": "3fed01ec",
   "metadata": {},
   "outputs": [],
   "source": [
    "Normal_Model = Sequential([\n",
    "        Flatten(input_shape=(32, 32, 3)),\n",
    "        Dense(hidden_units[0], activation=activation),\n",
    "        Dense(hidden_units[1], activation=activation),\n",
    "        Dense(hidden_units[2], activation=activation),\n",
    "        Dense(10, activation='softmax')\n",
    "])"
   ]
  },
  {
   "cell_type": "code",
   "execution_count": 10,
   "id": "17763754",
   "metadata": {},
   "outputs": [],
   "source": [
    "# layers.Dropout\n",
    "DropoutModel = Sequential([\n",
    "        Flatten(input_shape=(32, 32, 3)),\n",
    "        Dense(hidden_units[0], activation=activation), Dropout(.2),\n",
    "        Dense(hidden_units[1], activation=activation), Dropout(.2),\n",
    "        Dense(hidden_units[2], activation=activation), Dropout(.2),\n",
    "        Dense(10, activation='softmax')\n",
    "])"
   ]
  },
  {
   "cell_type": "code",
   "execution_count": 11,
   "id": "eca991b5",
   "metadata": {},
   "outputs": [],
   "source": [
    "from tensorflow.keras.regularizers import l1, l2"
   ]
  },
  {
   "cell_type": "code",
   "execution_count": 18,
   "id": "bbfb7f3d",
   "metadata": {},
   "outputs": [],
   "source": [
    "# regularizers.l1\n",
    "Regularizer_L1_Model = Sequential([\n",
    "        Flatten(input_shape=(32, 32, 3)),\n",
    "        Dense(hidden_units[0], activation=activation, kernel_regularizer = l1(0.1)),\n",
    "        Dense(hidden_units[1], activation=activation, kernel_regularizer = l1(0.1)),\n",
    "        Dense(hidden_units[2], activation=activation, kernel_regularizer = l1(0.1)),\n",
    "        Dense(10, activation='softmax')\n",
    "])"
   ]
  },
  {
   "cell_type": "code",
   "execution_count": 19,
   "id": "5c474378",
   "metadata": {},
   "outputs": [],
   "source": [
    "# regularizers.l2\n",
    "Regularizer_L2_Model = Sequential([\n",
    "        Flatten(input_shape=(32, 32, 3)),\n",
    "        Dense(hidden_units[0], activation=activation, kernel_regularizer = l2(0.1)),\n",
    "        Dense(hidden_units[1], activation=activation, kernel_regularizer = l2(0.1)),\n",
    "        Dense(hidden_units[2], activation=activation, kernel_regularizer = l2(0.1)),\n",
    "        Dense(10, activation='softmax')\n",
    "])"
   ]
  },
  {
   "cell_type": "code",
   "execution_count": 27,
   "id": "1487a492",
   "metadata": {},
   "outputs": [],
   "source": [
    "# glorot_uniform\n",
    "Glorot_Uniform_Model = Sequential([\n",
    "        Flatten(input_shape=(32, 32, 3)),\n",
    "        Dense(hidden_units[0], activation=activation, kernel_initializer='glorot_uniform'),\n",
    "        Dense(hidden_units[1], activation=activation, kernel_initializer='glorot_uniform'),\n",
    "        Dense(hidden_units[2], activation=activation, kernel_initializer='glorot_uniform'),\n",
    "        Dense(10, activation='softmax')\n",
    "])"
   ]
  },
  {
   "cell_type": "code",
   "execution_count": 21,
   "id": "02acc4af",
   "metadata": {},
   "outputs": [],
   "source": [
    "# he_normal\n",
    "He_Normal_Model = Sequential([\n",
    "        Flatten(input_shape=(32, 32, 3)),\n",
    "        Dense(hidden_units[0], activation=activation, kernel_initializer='he_normal'),\n",
    "        Dense(hidden_units[1], activation=activation, kernel_initializer='he_normal'),\n",
    "        Dense(hidden_units[2], activation=activation, kernel_initializer='he_normal'),\n",
    "        Dense(10, activation='softmax')\n",
    "])"
   ]
  },
  {
   "cell_type": "code",
   "execution_count": 42,
   "id": "e3982e57",
   "metadata": {},
   "outputs": [
    {
     "name": "stdout",
     "output_type": "stream",
     "text": [
      "Epoch 1/5\n",
      "782/782 [==============================] - 6s 7ms/step - loss: 1.8788 - accuracy: 0.3182 - val_loss: 1.6960 - val_accuracy: 0.3964\n",
      "Epoch 2/5\n",
      "782/782 [==============================] - 5s 7ms/step - loss: 1.6976 - accuracy: 0.3905 - val_loss: 1.6378 - val_accuracy: 0.4091\n",
      "Epoch 3/5\n",
      "782/782 [==============================] - 5s 7ms/step - loss: 1.6223 - accuracy: 0.4201 - val_loss: 1.6121 - val_accuracy: 0.4310\n",
      "Epoch 4/5\n",
      "782/782 [==============================] - 5s 7ms/step - loss: 1.5567 - accuracy: 0.4429 - val_loss: 1.5391 - val_accuracy: 0.4545\n",
      "Epoch 5/5\n",
      "782/782 [==============================] - 5s 7ms/step - loss: 1.5184 - accuracy: 0.4566 - val_loss: 1.4880 - val_accuracy: 0.4642\n",
      "313/313 [==============================] - 0s 1ms/step - loss: 1.4880 - accuracy: 0.4642\n",
      "\n",
      "Model: Normal_Model\n",
      "test error = 1.48797\n",
      "Accuracy = 46.42 %\n",
      "time = 27.758 seconds\n"
     ]
    }
   ],
   "source": [
    "Normal_Model_Result = createTester(Normal_Model, \"Normal_Model\")"
   ]
  },
  {
   "cell_type": "code",
   "execution_count": 22,
   "id": "be2be9d1",
   "metadata": {},
   "outputs": [
    {
     "name": "stdout",
     "output_type": "stream",
     "text": [
      "Epoch 1/5\n",
      "782/782 [==============================] - 8s 9ms/step - loss: 63.2186 - accuracy: 0.0968 - val_loss: 12.3968 - val_accuracy: 0.1000\n",
      "Epoch 2/5\n",
      "782/782 [==============================] - 7s 9ms/step - loss: 12.3955 - accuracy: 0.0984 - val_loss: 12.3899 - val_accuracy: 0.1000\n",
      "Epoch 3/5\n",
      "782/782 [==============================] - 8s 10ms/step - loss: 12.3949 - accuracy: 0.0983 - val_loss: 12.4256 - val_accuracy: 0.1000\n",
      "Epoch 4/5\n",
      "782/782 [==============================] - 7s 9ms/step - loss: 12.3951 - accuracy: 0.0997 - val_loss: 12.3538 - val_accuracy: 0.1000\n",
      "Epoch 5/5\n",
      "782/782 [==============================] - 6s 8ms/step - loss: 12.3944 - accuracy: 0.0984 - val_loss: 12.4306 - val_accuracy: 0.1000\n",
      "313/313 [==============================] - 1s 2ms/step - loss: 12.4306 - accuracy: 0.1000\n",
      "\n",
      "Model: Regularizer_L1_Model\n",
      "test error = 12.43058\n",
      "Accuracy = 10.0 %\n",
      "time = 36.721 seconds\n"
     ]
    }
   ],
   "source": [
    "Regularizer_L1_Result = createTester(Regularizer_L1_Model, \"Regularizer_L1_Model\")"
   ]
  },
  {
   "cell_type": "code",
   "execution_count": 23,
   "id": "9fa2743b",
   "metadata": {},
   "outputs": [
    {
     "name": "stdout",
     "output_type": "stream",
     "text": [
      "Epoch 1/5\n",
      "782/782 [==============================] - 7s 8ms/step - loss: 4.4889 - accuracy: 0.1661 - val_loss: 2.2296 - val_accuracy: 0.1649\n",
      "Epoch 2/5\n",
      "782/782 [==============================] - 6s 8ms/step - loss: 2.1904 - accuracy: 0.1832 - val_loss: 2.1756 - val_accuracy: 0.1893\n",
      "Epoch 3/5\n",
      "782/782 [==============================] - 6s 8ms/step - loss: 2.1724 - accuracy: 0.1849 - val_loss: 2.1524 - val_accuracy: 0.1847\n",
      "Epoch 4/5\n",
      "782/782 [==============================] - 7s 9ms/step - loss: 2.1633 - accuracy: 0.1855 - val_loss: 2.1512 - val_accuracy: 0.1896\n",
      "Epoch 5/5\n",
      "782/782 [==============================] - 6s 8ms/step - loss: 2.1521 - accuracy: 0.1863 - val_loss: 2.1371 - val_accuracy: 0.1907\n",
      "313/313 [==============================] - 1s 2ms/step - loss: 2.1371 - accuracy: 0.1907\n",
      "\n",
      "Model: Regularizer_L2_Model\n",
      "test error = 2.13711\n",
      "Accuracy = 19.07 %\n",
      "time = 32.685 seconds\n"
     ]
    }
   ],
   "source": [
    "Regularizer_L2_Result = createTester(Regularizer_L2_Model, \"Regularizer_L2_Model\")"
   ]
  },
  {
   "cell_type": "code",
   "execution_count": 28,
   "id": "a2860ca6",
   "metadata": {},
   "outputs": [
    {
     "name": "stdout",
     "output_type": "stream",
     "text": [
      "Epoch 1/5\n",
      "782/782 [==============================] - 6s 7ms/step - loss: 1.8861 - accuracy: 0.3166 - val_loss: 1.7853 - val_accuracy: 0.3644\n",
      "Epoch 2/5\n",
      "782/782 [==============================] - 5s 7ms/step - loss: 1.6963 - accuracy: 0.3900 - val_loss: 1.6470 - val_accuracy: 0.4143\n",
      "Epoch 3/5\n",
      "782/782 [==============================] - 5s 7ms/step - loss: 1.6059 - accuracy: 0.4253 - val_loss: 1.6032 - val_accuracy: 0.4254\n",
      "Epoch 4/5\n",
      "782/782 [==============================] - 6s 8ms/step - loss: 1.5539 - accuracy: 0.4438 - val_loss: 1.5213 - val_accuracy: 0.4541\n",
      "Epoch 5/5\n",
      "782/782 [==============================] - 6s 7ms/step - loss: 1.5107 - accuracy: 0.4598 - val_loss: 1.5498 - val_accuracy: 0.4466\n",
      "313/313 [==============================] - 0s 1ms/step - loss: 1.5498 - accuracy: 0.4466\n",
      "\n",
      "Model: Glorot_Uniform_Model\n",
      "test error = 1.5498\n",
      "Accuracy = 44.66 %\n",
      "time = 29.351 seconds\n"
     ]
    }
   ],
   "source": [
    "Glorot_Uniform_Result = createTester(Glorot_Uniform_Model, \"Glorot_Uniform_Model\")"
   ]
  },
  {
   "cell_type": "code",
   "execution_count": 25,
   "id": "cfc749b2",
   "metadata": {},
   "outputs": [
    {
     "name": "stdout",
     "output_type": "stream",
     "text": [
      "Epoch 1/5\n",
      "782/782 [==============================] - 6s 7ms/step - loss: 1.8974 - accuracy: 0.3142 - val_loss: 1.7421 - val_accuracy: 0.3742\n",
      "Epoch 2/5\n",
      "782/782 [==============================] - 5s 7ms/step - loss: 1.6974 - accuracy: 0.3904 - val_loss: 1.6917 - val_accuracy: 0.3892\n",
      "Epoch 3/5\n",
      "782/782 [==============================] - 5s 7ms/step - loss: 1.6237 - accuracy: 0.4162 - val_loss: 1.5865 - val_accuracy: 0.4314\n",
      "Epoch 4/5\n",
      "782/782 [==============================] - 5s 7ms/step - loss: 1.5651 - accuracy: 0.4395 - val_loss: 1.5475 - val_accuracy: 0.4513\n",
      "Epoch 5/5\n",
      "782/782 [==============================] - 5s 7ms/step - loss: 1.5306 - accuracy: 0.4515 - val_loss: 1.5272 - val_accuracy: 0.4550\n",
      "313/313 [==============================] - 1s 2ms/step - loss: 1.5272 - accuracy: 0.4550\n",
      "\n",
      "Model: He_Normal_Model\n",
      "test error = 1.52724\n",
      "Accuracy = 45.5 %\n",
      "time = 27.315 seconds\n"
     ]
    }
   ],
   "source": [
    "He_Normal_Result = createTester(He_Normal_Model, \"He_Normal_Model\")"
   ]
  },
  {
   "cell_type": "code",
   "execution_count": 26,
   "id": "7d7456a3",
   "metadata": {},
   "outputs": [],
   "source": [
    "import matplotlib.pyplot as plt"
   ]
  },
  {
   "cell_type": "code",
   "execution_count": 60,
   "id": "f8faa2f3",
   "metadata": {},
   "outputs": [
    {
     "data": {
      "text/plain": [
       "<BarContainer object of 5 artists>"
      ]
     },
     "execution_count": 60,
     "metadata": {},
     "output_type": "execute_result"
    },
    {
     "data": {
      "image/png": "[encoded data removed]",
      "text/plain": [
       "<Figure size 640x480 with 4 Axes>"
      ]
     },
     "metadata": {},
     "output_type": "display_data"
    }
   ],
   "source": [
    "x_name = [\"Normal\", \"He_Normal\", \"Savier\", \"Regularizer_L1\", \"Regularizer_L2\"]\n",
    "x = [\"N\", \"He\", \"Sav\", \"R.L1\", \"R.L2\"]\n",
    "\n",
    "getY = lambda x: [\n",
    "    Normal_Model_Result[x], \n",
    "    He_Normal_Result[x], \n",
    "    Glorot_Uniform_Result[x], \n",
    "    Regularizer_L1_Result[x], \n",
    "    Regularizer_L2_Result[x]\n",
    "]\n",
    "\n",
    "y_time = getY(3)\n",
    "y_accuracy = getY(2)\n",
    "y_loss = getY(1)\n",
    "\n",
    "fig, ax  = plt.subplots(2, 2, layout=\"constrained\")\n",
    "\n",
    "ax_time = ax[0][0]\n",
    "ax_acc = ax[0][1]\n",
    "ax_loss = ax[1][0]\n",
    "\n",
    "ax_time.bar(x, y_time)\n",
    "ax_acc.bar(x, y_accuracy)\n",
    "ax_loss.bar(x, y_accuracy)"
   ]
  },
  {
   "cell_type": "code",
   "execution_count": null,
   "id": "e7ecd1b3",
   "metadata": {},
   "outputs": [],
   "source": []
  }
 ],
 "metadata": {
  "kernelspec": {
   "display_name": "Python 3 (ipykernel)",
   "language": "python",
   "name": "python3"
  },
  "language_info": {
   "codemirror_mode": {
    "name": "ipython",
    "version": 3
   },
   "file_extension": ".py",
   "mimetype": "text/x-python",
   "name": "python",
   "nbconvert_exporter": "python",
   "pygments_lexer": "ipython3",
   "version": "3.10.9"
  }
 },
 "nbformat": 4,
 "nbformat_minor": 5
}
