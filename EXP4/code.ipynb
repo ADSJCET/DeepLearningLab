{
 "cells": [
  {
   "cell_type": "code",
   "execution_count": 2,
   "id": "4f1fd6bb",
   "metadata": {},
   "outputs": [],
   "source": [
    "from tensorflow.keras.datasets import cifar10\n",
    "from tensorflow.keras.utils import to_categorical"
   ]
  },
  {
   "cell_type": "code",
   "execution_count": 3,
   "id": "5f75c51a",
   "metadata": {},
   "outputs": [],
   "source": [
    "# Load and preprocess CIFAR-10 dataset\n",
    "(x_train, y_train), (x_test, y_test) = cifar10.load_data()\n",
    "x_train, x_test = x_train / 255.0, x_test / 255.0    #Normalization\n",
    "y_train, y_test = to_categorical(y_train), to_categorical(y_test) # one hot encoding"
   ]
  },
  {
   "cell_type": "code",
   "execution_count": 4,
   "id": "81b528aa",
   "metadata": {},
   "outputs": [],
   "source": [
    "hidden_units = (256, 128, 64)\n",
    "activation = \"relu\""
   ]
  },
  {
   "cell_type": "code",
   "execution_count": 5,
   "id": "7b8c3374",
   "metadata": {},
   "outputs": [],
   "source": [
    "import time"
   ]
  },
  {
   "cell_type": "code",
   "execution_count": 6,
   "id": "ae35a10b",
   "metadata": {},
   "outputs": [],
   "source": [
    "def createTester(model, name):\n",
    "    model.compile(optimizer='adam', loss='categorical_crossentropy', metrics=['accuracy'])\n",
    "    \n",
    "    start = time.time()\n",
    "    history = model.fit(x_train, y_train, epochs=5, batch_size=64, validation_data=(x_test, y_test))\n",
    "    end = time.time()\n",
    "    \n",
    "    test_loss, test_accuracy = model.evaluate(x_test, y_test)\n",
    "    \n",
    "    r_test_loss = round(test_loss, 5)\n",
    "    r_test_accuracy = round(test_accuracy * 100, 5)\n",
    "    r_time = round(end - start, 3)\n",
    "    \n",
    "    print(\"\\nModel:\", name)\n",
    "    print(\"test error =\", r_test_loss)\n",
    "    print(\"Accuracy =\", r_test_accuracy, \"%\")\n",
    "    print(\"time =\", r_time, \"seconds\")\n",
    "    \n",
    "    return (\n",
    "        model,\n",
    "        r_test_loss,\n",
    "        r_test_accuracy,\n",
    "        r_time\n",
    "    )"
   ]
  },
  {
   "cell_type": "code",
   "execution_count": 7,
   "id": "8bdf3701",
   "metadata": {},
   "outputs": [],
   "source": [
    "from tensorflow.keras.layers import Flatten, Dense, Dropout\n",
    "from tensorflow.keras.models import Sequential"
   ]
  },
  {
   "cell_type": "code",
   "execution_count": 8,
   "id": "3fed01ec",
   "metadata": {},
   "outputs": [],
   "source": [
    "Normal_Model = Sequential([\n",
    "        Flatten(input_shape=(32, 32, 3)),\n",
    "        Dense(hidden_units[0], activation=activation),\n",
    "        Dense(hidden_units[1], activation=activation),\n",
    "        Dense(hidden_units[2], activation=activation),\n",
    "        Dense(10, activation='softmax')\n",
    "])"
   ]
  },
  {
   "cell_type": "code",
   "execution_count": 9,
   "id": "17763754",
   "metadata": {},
   "outputs": [],
   "source": [
    "# layers.Dropout\n",
    "DropoutModel = Sequential([\n",
    "        Flatten(input_shape=(32, 32, 3)),\n",
    "        Dense(hidden_units[0], activation=activation), Dropout(.2),\n",
    "        Dense(hidden_units[1], activation=activation), Dropout(.2),\n",
    "        Dense(hidden_units[2], activation=activation), Dropout(.2),\n",
    "        Dense(10, activation='softmax')\n",
    "])"
   ]
  },
  {
   "cell_type": "code",
   "execution_count": 10,
   "id": "eca991b5",
   "metadata": {},
   "outputs": [],
   "source": [
    "from tensorflow.keras.regularizers import l1, l2"
   ]
  },
  {
   "cell_type": "code",
   "execution_count": 11,
   "id": "bbfb7f3d",
   "metadata": {},
   "outputs": [],
   "source": [
    "# regularizers.l1\n",
    "Regularizer_L1_Model = Sequential([\n",
    "        Flatten(input_shape=(32, 32, 3)),\n",
    "        Dense(hidden_units[0], activation=activation, kernel_regularizer = l1(0.1)),\n",
    "        Dense(hidden_units[1], activation=activation, kernel_regularizer = l1(0.1)),\n",
    "        Dense(hidden_units[2], activation=activation, kernel_regularizer = l1(0.1)),\n",
    "        Dense(10, activation='softmax')\n",
    "])"
   ]
  },
  {
   "cell_type": "code",
   "execution_count": 12,
   "id": "5c474378",
   "metadata": {},
   "outputs": [],
   "source": [
    "# regularizers.l2\n",
    "Regularizer_L2_Model = Sequential([\n",
    "        Flatten(input_shape=(32, 32, 3)),\n",
    "        Dense(hidden_units[0], activation=activation, kernel_regularizer = l2(0.1)),\n",
    "        Dense(hidden_units[1], activation=activation, kernel_regularizer = l2(0.1)),\n",
    "        Dense(hidden_units[2], activation=activation, kernel_regularizer = l2(0.1)),\n",
    "        Dense(10, activation='softmax')\n",
    "])"
   ]
  },
  {
   "cell_type": "code",
   "execution_count": 13,
   "id": "1487a492",
   "metadata": {},
   "outputs": [],
   "source": [
    "# glorot_uniform\n",
    "Glorot_Uniform_Model = Sequential([\n",
    "        Flatten(input_shape=(32, 32, 3)),\n",
    "        Dense(hidden_units[0], activation=activation, kernel_initializer='glorot_uniform'),\n",
    "        Dense(hidden_units[1], activation=activation, kernel_initializer='glorot_uniform'),\n",
    "        Dense(hidden_units[2], activation=activation, kernel_initializer='glorot_uniform'),\n",
    "        Dense(10, activation='softmax')\n",
    "])"
   ]
  },
  {
   "cell_type": "code",
   "execution_count": 14,
   "id": "02acc4af",
   "metadata": {},
   "outputs": [],
   "source": [
    "# he_normal\n",
    "He_Normal_Model = Sequential([\n",
    "        Flatten(input_shape=(32, 32, 3)),\n",
    "        Dense(hidden_units[0], activation=activation, kernel_initializer='he_normal'),\n",
    "        Dense(hidden_units[1], activation=activation, kernel_initializer='he_normal'),\n",
    "        Dense(hidden_units[2], activation=activation, kernel_initializer='he_normal'),\n",
    "        Dense(10, activation='softmax')\n",
    "])"
   ]
  },
  {
   "cell_type": "code",
   "execution_count": 15,
   "id": "e3982e57",
   "metadata": {},
   "outputs": [
    {
     "name": "stdout",
     "output_type": "stream",
     "text": [
      "Epoch 1/5\n",
      "782/782 [==============================] - 6s 7ms/step - loss: 1.8923 - accuracy: 0.3133 - val_loss: 1.7354 - val_accuracy: 0.3793\n",
      "Epoch 2/5\n",
      "782/782 [==============================] - 5s 7ms/step - loss: 1.6917 - accuracy: 0.3925 - val_loss: 1.6417 - val_accuracy: 0.4099\n",
      "Epoch 3/5\n",
      "782/782 [==============================] - 5s 7ms/step - loss: 1.6064 - accuracy: 0.4234 - val_loss: 1.5635 - val_accuracy: 0.4395\n",
      "Epoch 4/5\n",
      "782/782 [==============================] - 5s 7ms/step - loss: 1.5472 - accuracy: 0.4444 - val_loss: 1.6025 - val_accuracy: 0.4269\n",
      "Epoch 5/5\n",
      "782/782 [==============================] - 5s 7ms/step - loss: 1.5076 - accuracy: 0.4590 - val_loss: 1.5074 - val_accuracy: 0.4629\n",
      "313/313 [==============================] - 0s 1ms/step - loss: 1.5074 - accuracy: 0.4629\n",
      "\n",
      "Model: Normal_Model\n",
      "test error = 1.50742\n",
      "Accuracy = 46.29 %\n",
      "time = 28.066 seconds\n"
     ]
    }
   ],
   "source": [
    "Normal_Model_Result = createTester(Normal_Model, \"Normal_Model\")"
   ]
  },
  {
   "cell_type": "code",
   "execution_count": 16,
   "id": "be2be9d1",
   "metadata": {},
   "outputs": [
    {
     "name": "stdout",
     "output_type": "stream",
     "text": [
      "Epoch 1/5\n",
      "782/782 [==============================] - 7s 9ms/step - loss: 63.1312 - accuracy: 0.0985 - val_loss: 12.3899 - val_accuracy: 0.1000\n",
      "Epoch 2/5\n",
      "782/782 [==============================] - 8s 10ms/step - loss: 12.3916 - accuracy: 0.0972 - val_loss: 12.3930 - val_accuracy: 0.1000\n",
      "Epoch 3/5\n",
      "782/782 [==============================] - 7s 9ms/step - loss: 12.3911 - accuracy: 0.1000 - val_loss: 12.4224 - val_accuracy: 0.1000\n",
      "Epoch 4/5\n",
      "782/782 [==============================] - 7s 9ms/step - loss: 12.3913 - accuracy: 0.0984 - val_loss: 12.3568 - val_accuracy: 0.1000\n",
      "Epoch 5/5\n",
      "782/782 [==============================] - 7s 9ms/step - loss: 12.3907 - accuracy: 0.0982 - val_loss: 12.4143 - val_accuracy: 0.1000\n",
      "313/313 [==============================] - 1s 2ms/step - loss: 12.4143 - accuracy: 0.1000\n",
      "\n",
      "Model: Regularizer_L1_Model\n",
      "test error = 12.41427\n",
      "Accuracy = 10.0 %\n",
      "time = 37.366 seconds\n"
     ]
    }
   ],
   "source": [
    "Regularizer_L1_Result = createTester(Regularizer_L1_Model, \"Regularizer_L1_Model\")"
   ]
  },
  {
   "cell_type": "code",
   "execution_count": 17,
   "id": "9fa2743b",
   "metadata": {},
   "outputs": [
    {
     "name": "stdout",
     "output_type": "stream",
     "text": [
      "Epoch 1/5\n",
      "782/782 [==============================] - 7s 8ms/step - loss: 4.4912 - accuracy: 0.1681 - val_loss: 2.1893 - val_accuracy: 0.1818\n",
      "Epoch 2/5\n",
      "782/782 [==============================] - 6s 8ms/step - loss: 2.1914 - accuracy: 0.1817 - val_loss: 2.1761 - val_accuracy: 0.1858\n",
      "Epoch 3/5\n",
      "782/782 [==============================] - 6s 8ms/step - loss: 2.1728 - accuracy: 0.1843 - val_loss: 2.4628 - val_accuracy: 0.1402\n",
      "Epoch 4/5\n",
      "782/782 [==============================] - 7s 9ms/step - loss: 2.1658 - accuracy: 0.1848 - val_loss: 2.2749 - val_accuracy: 0.1582\n",
      "Epoch 5/5\n",
      "782/782 [==============================] - 6s 8ms/step - loss: 2.1558 - accuracy: 0.1887 - val_loss: 2.1877 - val_accuracy: 0.1687\n",
      "313/313 [==============================] - 0s 1ms/step - loss: 2.1877 - accuracy: 0.1687\n",
      "\n",
      "Model: Regularizer_L2_Model\n",
      "test error = 2.18765\n",
      "Accuracy = 16.87 %\n",
      "time = 33.184 seconds\n"
     ]
    }
   ],
   "source": [
    "Regularizer_L2_Result = createTester(Regularizer_L2_Model, \"Regularizer_L2_Model\")"
   ]
  },
  {
   "cell_type": "code",
   "execution_count": 18,
   "id": "a2860ca6",
   "metadata": {},
   "outputs": [
    {
     "name": "stdout",
     "output_type": "stream",
     "text": [
      "Epoch 1/5\n",
      "782/782 [==============================] - 6s 8ms/step - loss: 1.8568 - accuracy: 0.3237 - val_loss: 1.6942 - val_accuracy: 0.3882\n",
      "Epoch 2/5\n",
      "782/782 [==============================] - 6s 7ms/step - loss: 1.6778 - accuracy: 0.3979 - val_loss: 1.6468 - val_accuracy: 0.3999\n",
      "Epoch 3/5\n",
      "782/782 [==============================] - 6s 8ms/step - loss: 1.5986 - accuracy: 0.4295 - val_loss: 1.5963 - val_accuracy: 0.4312\n",
      "Epoch 4/5\n",
      "782/782 [==============================] - 6s 7ms/step - loss: 1.5400 - accuracy: 0.4503 - val_loss: 1.5280 - val_accuracy: 0.4529\n",
      "Epoch 5/5\n",
      "782/782 [==============================] - 6s 7ms/step - loss: 1.5011 - accuracy: 0.4633 - val_loss: 1.4963 - val_accuracy: 0.4713\n",
      "313/313 [==============================] - 0s 1ms/step - loss: 1.4963 - accuracy: 0.4713\n",
      "\n",
      "Model: Glorot_Uniform_Model\n",
      "test error = 1.49631\n",
      "Accuracy = 47.13 %\n",
      "time = 30.322 seconds\n"
     ]
    }
   ],
   "source": [
    "Glorot_Uniform_Result = createTester(Glorot_Uniform_Model, \"Glorot_Uniform_Model\")"
   ]
  },
  {
   "cell_type": "code",
   "execution_count": 19,
   "id": "cfc749b2",
   "metadata": {},
   "outputs": [
    {
     "name": "stdout",
     "output_type": "stream",
     "text": [
      "Epoch 1/5\n",
      "782/782 [==============================] - 6s 7ms/step - loss: 1.8953 - accuracy: 0.3164 - val_loss: 1.7902 - val_accuracy: 0.3536\n",
      "Epoch 2/5\n",
      "782/782 [==============================] - 6s 7ms/step - loss: 1.7059 - accuracy: 0.3883 - val_loss: 1.6987 - val_accuracy: 0.3923\n",
      "Epoch 3/5\n",
      "782/782 [==============================] - 6s 7ms/step - loss: 1.6190 - accuracy: 0.4228 - val_loss: 1.5940 - val_accuracy: 0.4311\n",
      "Epoch 4/5\n",
      "782/782 [==============================] - 6s 7ms/step - loss: 1.5658 - accuracy: 0.4419 - val_loss: 1.6068 - val_accuracy: 0.4251\n",
      "Epoch 5/5\n",
      "782/782 [==============================] - 6s 7ms/step - loss: 1.5188 - accuracy: 0.4589 - val_loss: 1.5968 - val_accuracy: 0.4257\n",
      "313/313 [==============================] - 0s 1ms/step - loss: 1.5968 - accuracy: 0.4257\n",
      "\n",
      "Model: He_Normal_Model\n",
      "test error = 1.59684\n",
      "Accuracy = 42.57 %\n",
      "time = 29.753 seconds\n"
     ]
    }
   ],
   "source": [
    "He_Normal_Result = createTester(He_Normal_Model, \"He_Normal_Model\")"
   ]
  },
  {
   "cell_type": "code",
   "execution_count": 20,
   "id": "7d7456a3",
   "metadata": {},
   "outputs": [],
   "source": [
    "import matplotlib.pyplot as plt"
   ]
  },
  {
   "cell_type": "code",
   "execution_count": 22,
   "id": "f8faa2f3",
   "metadata": {},
   "outputs": [
    {
     "data": {
      "image/png": "[encoded data removed]",
      "text/plain": [
       "<Figure size 640x480 with 4 Axes>"
      ]
     },
     "metadata": {},
     "output_type": "display_data"
    }
   ],
   "source": [
    "x_name = [\"Normal\", \"He_Normal\", \"Xavier\", \"Regularizer_L1\", \"Regularizer_L2\"]\n",
    "x = [\"N\", \"He\", \"Xav\", \"R.L1\", \"R.L2\"]\n",
    "\n",
    "getY = lambda x: [\n",
    "    Normal_Model_Result[x], \n",
    "    He_Normal_Result[x], \n",
    "    Glorot_Uniform_Result[x], \n",
    "    Regularizer_L1_Result[x], \n",
    "    Regularizer_L2_Result[x]\n",
    "]\n",
    "\n",
    "y_time = getY(3)\n",
    "y_accuracy = getY(2)\n",
    "y_loss = getY(1)\n",
    "\n",
    "fig, ax  = plt.subplots(2, 2, layout=\"constrained\")\n",
    "\n",
    "ax_time = ax[0][0]\n",
    "ax_acc = ax[0][1]\n",
    "ax_loss = ax[1][0]\n",
    "\n",
    "ax_time.bar(x, y_time)\n",
    "ax_acc.bar(x, y_accuracy)\n",
    "ax_loss.bar(x, y_loss)\n",
    "\n",
    "ax_time.title.set_text('Time Comparison')\n",
    "ax_acc.title.set_text('Accuracy Comparison')\n",
    "ax_loss.title.set_text('Loss Comparison')\n",
    "\n",
    "plt.show()"
   ]
  },
  {
   "cell_type": "code",
   "execution_count": null,
   "id": "e7ecd1b3",
   "metadata": {},
   "outputs": [],
   "source": []
  }
 ],
 "metadata": {
  "kernelspec": {
   "display_name": "Python 3 (ipykernel)",
   "language": "python",
   "name": "python3"
  },
  "language_info": {
   "codemirror_mode": {
    "name": "ipython",
    "version": 3
   },
   "file_extension": ".py",
   "mimetype": "text/x-python",
   "name": "python",
   "nbconvert_exporter": "python",
   "pygments_lexer": "ipython3",
   "version": "3.10.9"
  }
 },
 "nbformat": 4,
 "nbformat_minor": 5
}
